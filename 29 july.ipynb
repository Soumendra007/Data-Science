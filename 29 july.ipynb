{
 "cells": [
  {
   "cell_type": "markdown",
   "id": "0c9b6ac9",
   "metadata": {},
   "source": [
    "# Seaborn visualization library"
   ]
  },
  {
   "cell_type": "markdown",
   "id": "ebde5b38",
   "metadata": {},
   "source": [
    "Seaborn is a Python data visualization library based on matplotlib. It provides a high-level interface for drawing attractive and informative statistical graphics."
   ]
  },
  {
   "cell_type": "markdown",
   "id": "f2372125",
   "metadata": {},
   "source": [
    "Seaborn helps you explore and understand your data. Its plotting functions operate on dataframes and arrays containing whole datasets and internally perform the necessary semantic mapping and statistical aggregation to produce informative plots."
   ]
  },
  {
   "cell_type": "markdown",
   "id": "5083a581",
   "metadata": {},
   "source": [
    "There are certain method in seaborn those are:\n",
    "    \n",
    "    Category plot\n",
    "\n",
    "    stripplot\n",
    "\n",
    "    swarmplot\n",
    "\n",
    "    countplot\n",
    "\n",
    "    catplot"
   ]
  },
  {
   "cell_type": "code",
   "execution_count": 6,
   "id": "76d57405",
   "metadata": {},
   "outputs": [],
   "source": [
    "import pandas as pd\n",
    "import numpy as np\n",
    "import matplotlib.pyplot as plt \n",
    "import seaborn as sns \n",
    "import warnings\n",
    "warnings.filterwarnings(\"ignore\")"
   ]
  },
  {
   "cell_type": "code",
   "execution_count": 2,
   "id": "72a2c304",
   "metadata": {},
   "outputs": [],
   "source": [
    "a=np.array([12,14,52,41,11,59,3,45,75])\n",
    "b=np.array([23,44,85,42,49,85,40,52,63])"
   ]
  },
  {
   "cell_type": "code",
   "execution_count": 7,
   "id": "3d5c9e24",
   "metadata": {},
   "outputs": [
    {
     "ename": "TypeError",
     "evalue": "stripplot() takes from 0 to 1 positional arguments but 2 were given",
     "output_type": "error",
     "traceback": [
      "\u001b[1;31m---------------------------------------------------------------------------\u001b[0m",
      "\u001b[1;31mTypeError\u001b[0m                                 Traceback (most recent call last)",
      "Cell \u001b[1;32mIn[7], line 1\u001b[0m\n\u001b[1;32m----> 1\u001b[0m \u001b[43msns\u001b[49m\u001b[38;5;241;43m.\u001b[39;49m\u001b[43mstripplot\u001b[49m\u001b[43m(\u001b[49m\u001b[43ma\u001b[49m\u001b[43m,\u001b[49m\u001b[43mb\u001b[49m\u001b[43m)\u001b[49m\n",
      "\u001b[1;31mTypeError\u001b[0m: stripplot() takes from 0 to 1 positional arguments but 2 were given"
     ]
    }
   ],
   "source": [
    "sns.stripplot(a,b)"
   ]
  },
  {
   "cell_type": "code",
   "execution_count": null,
   "id": "d18f1a84",
   "metadata": {},
   "outputs": [],
   "source": []
  }
 ],
 "metadata": {
  "kernelspec": {
   "display_name": "Python 3 (ipykernel)",
   "language": "python",
   "name": "python3"
  },
  "language_info": {
   "codemirror_mode": {
    "name": "ipython",
    "version": 3
   },
   "file_extension": ".py",
   "mimetype": "text/x-python",
   "name": "python",
   "nbconvert_exporter": "python",
   "pygments_lexer": "ipython3",
   "version": "3.10.9"
  }
 },
 "nbformat": 4,
 "nbformat_minor": 5
}
