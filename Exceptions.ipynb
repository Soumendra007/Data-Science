{
 "cells": [
  {
   "cell_type": "code",
   "execution_count": 1,
   "id": "c0a183f9",
   "metadata": {},
   "outputs": [],
   "source": [
    "#Imports\n",
    "from selenium import webdriver\n",
    "import time\n",
    "from selenium.common.exceptions import NoSuchElementException            #Importing Exception\n",
    "import warnings \n",
    "warnings.filterwarnings(\"ignore\")\n",
    "from selenium.webdriver.common.by import By"
   ]
  },
  {
   "cell_type": "code",
   "execution_count": 2,
   "id": "8102b819",
   "metadata": {},
   "outputs": [
    {
     "ename": "NoSuchElementException",
     "evalue": "Message: no such element: Unable to locate element: {\"method\":\"css selector\",\"selector\":\"[id=\"hoo-haa-hoo\"]\"}\n  (Session info: chrome=119.0.6045.106); For documentation on this error, please visit: https://www.selenium.dev/documentation/webdriver/troubleshooting/errors#no-such-element-exception\nStacktrace:\n\tGetHandleVerifier [0x00007FF78B7D82B2+55298]\n\t(No symbol) [0x00007FF78B745E02]\n\t(No symbol) [0x00007FF78B6005AB]\n\t(No symbol) [0x00007FF78B64175C]\n\t(No symbol) [0x00007FF78B6418DC]\n\t(No symbol) [0x00007FF78B67CBC7]\n\t(No symbol) [0x00007FF78B6620EF]\n\t(No symbol) [0x00007FF78B67AAA4]\n\t(No symbol) [0x00007FF78B661E83]\n\t(No symbol) [0x00007FF78B63670A]\n\t(No symbol) [0x00007FF78B637964]\n\tGetHandleVerifier [0x00007FF78BB50AAB+3694587]\n\tGetHandleVerifier [0x00007FF78BBA728E+4048862]\n\tGetHandleVerifier [0x00007FF78BB9F173+4015811]\n\tGetHandleVerifier [0x00007FF78B8747D6+695590]\n\t(No symbol) [0x00007FF78B750CE8]\n\t(No symbol) [0x00007FF78B74CF34]\n\t(No symbol) [0x00007FF78B74D062]\n\t(No symbol) [0x00007FF78B73D3A3]\n\tBaseThreadInitThunk [0x00007FFF12247344+20]\n\tRtlUserThreadStart [0x00007FFF12D826B1+33]\n",
     "output_type": "error",
     "traceback": [
      "\u001b[1;31m---------------------------------------------------------------------------\u001b[0m",
      "\u001b[1;31mNoSuchElementException\u001b[0m                    Traceback (most recent call last)",
      "Cell \u001b[1;32mIn[2], line 5\u001b[0m\n\u001b[0;32m      3\u001b[0m time\u001b[38;5;241m.\u001b[39msleep(\u001b[38;5;241m5\u001b[39m)\n\u001b[0;32m      4\u001b[0m \u001b[38;5;66;03m#Entering an element which is not present in our webpage \u001b[39;00m\n\u001b[1;32m----> 5\u001b[0m element \u001b[38;5;241m=\u001b[39m \u001b[43mdriver\u001b[49m\u001b[38;5;241;43m.\u001b[39;49m\u001b[43mfind_element\u001b[49m\u001b[43m(\u001b[49m\u001b[43mBy\u001b[49m\u001b[38;5;241;43m.\u001b[39;49m\u001b[43mID\u001b[49m\u001b[43m,\u001b[49m\u001b[43m \u001b[49m\u001b[38;5;124;43m\"\u001b[39;49m\u001b[38;5;124;43mhoo-haa-hoo\u001b[39;49m\u001b[38;5;124;43m\"\u001b[39;49m\u001b[43m)\u001b[49m\n\u001b[0;32m      6\u001b[0m element\u001b[38;5;241m.\u001b[39mtext\n",
      "File \u001b[1;32m~\\anaconda3\\lib\\site-packages\\selenium\\webdriver\\remote\\webdriver.py:740\u001b[0m, in \u001b[0;36mWebDriver.find_element\u001b[1;34m(self, by, value)\u001b[0m\n\u001b[0;32m    737\u001b[0m     by \u001b[38;5;241m=\u001b[39m By\u001b[38;5;241m.\u001b[39mCSS_SELECTOR\n\u001b[0;32m    738\u001b[0m     value \u001b[38;5;241m=\u001b[39m \u001b[38;5;124mf\u001b[39m\u001b[38;5;124m'\u001b[39m\u001b[38;5;124m[name=\u001b[39m\u001b[38;5;124m\"\u001b[39m\u001b[38;5;132;01m{\u001b[39;00mvalue\u001b[38;5;132;01m}\u001b[39;00m\u001b[38;5;124m\"\u001b[39m\u001b[38;5;124m]\u001b[39m\u001b[38;5;124m'\u001b[39m\n\u001b[1;32m--> 740\u001b[0m \u001b[38;5;28;01mreturn\u001b[39;00m \u001b[38;5;28;43mself\u001b[39;49m\u001b[38;5;241;43m.\u001b[39;49m\u001b[43mexecute\u001b[49m\u001b[43m(\u001b[49m\u001b[43mCommand\u001b[49m\u001b[38;5;241;43m.\u001b[39;49m\u001b[43mFIND_ELEMENT\u001b[49m\u001b[43m,\u001b[49m\u001b[43m \u001b[49m\u001b[43m{\u001b[49m\u001b[38;5;124;43m\"\u001b[39;49m\u001b[38;5;124;43musing\u001b[39;49m\u001b[38;5;124;43m\"\u001b[39;49m\u001b[43m:\u001b[49m\u001b[43m \u001b[49m\u001b[43mby\u001b[49m\u001b[43m,\u001b[49m\u001b[43m \u001b[49m\u001b[38;5;124;43m\"\u001b[39;49m\u001b[38;5;124;43mvalue\u001b[39;49m\u001b[38;5;124;43m\"\u001b[39;49m\u001b[43m:\u001b[49m\u001b[43m \u001b[49m\u001b[43mvalue\u001b[49m\u001b[43m}\u001b[49m\u001b[43m)\u001b[49m[\u001b[38;5;124m\"\u001b[39m\u001b[38;5;124mvalue\u001b[39m\u001b[38;5;124m\"\u001b[39m]\n",
      "File \u001b[1;32m~\\anaconda3\\lib\\site-packages\\selenium\\webdriver\\remote\\webdriver.py:346\u001b[0m, in \u001b[0;36mWebDriver.execute\u001b[1;34m(self, driver_command, params)\u001b[0m\n\u001b[0;32m    344\u001b[0m response \u001b[38;5;241m=\u001b[39m \u001b[38;5;28mself\u001b[39m\u001b[38;5;241m.\u001b[39mcommand_executor\u001b[38;5;241m.\u001b[39mexecute(driver_command, params)\n\u001b[0;32m    345\u001b[0m \u001b[38;5;28;01mif\u001b[39;00m response:\n\u001b[1;32m--> 346\u001b[0m     \u001b[38;5;28;43mself\u001b[39;49m\u001b[38;5;241;43m.\u001b[39;49m\u001b[43merror_handler\u001b[49m\u001b[38;5;241;43m.\u001b[39;49m\u001b[43mcheck_response\u001b[49m\u001b[43m(\u001b[49m\u001b[43mresponse\u001b[49m\u001b[43m)\u001b[49m\n\u001b[0;32m    347\u001b[0m     response[\u001b[38;5;124m\"\u001b[39m\u001b[38;5;124mvalue\u001b[39m\u001b[38;5;124m\"\u001b[39m] \u001b[38;5;241m=\u001b[39m \u001b[38;5;28mself\u001b[39m\u001b[38;5;241m.\u001b[39m_unwrap_value(response\u001b[38;5;241m.\u001b[39mget(\u001b[38;5;124m\"\u001b[39m\u001b[38;5;124mvalue\u001b[39m\u001b[38;5;124m\"\u001b[39m, \u001b[38;5;28;01mNone\u001b[39;00m))\n\u001b[0;32m    348\u001b[0m     \u001b[38;5;28;01mreturn\u001b[39;00m response\n",
      "File \u001b[1;32m~\\anaconda3\\lib\\site-packages\\selenium\\webdriver\\remote\\errorhandler.py:229\u001b[0m, in \u001b[0;36mErrorHandler.check_response\u001b[1;34m(self, response)\u001b[0m\n\u001b[0;32m    227\u001b[0m         alert_text \u001b[38;5;241m=\u001b[39m value[\u001b[38;5;124m\"\u001b[39m\u001b[38;5;124malert\u001b[39m\u001b[38;5;124m\"\u001b[39m]\u001b[38;5;241m.\u001b[39mget(\u001b[38;5;124m\"\u001b[39m\u001b[38;5;124mtext\u001b[39m\u001b[38;5;124m\"\u001b[39m)\n\u001b[0;32m    228\u001b[0m     \u001b[38;5;28;01mraise\u001b[39;00m exception_class(message, screen, stacktrace, alert_text)  \u001b[38;5;66;03m# type: ignore[call-arg]  # mypy is not smart enough here\u001b[39;00m\n\u001b[1;32m--> 229\u001b[0m \u001b[38;5;28;01mraise\u001b[39;00m exception_class(message, screen, stacktrace)\n",
      "\u001b[1;31mNoSuchElementException\u001b[0m: Message: no such element: Unable to locate element: {\"method\":\"css selector\",\"selector\":\"[id=\"hoo-haa-hoo\"]\"}\n  (Session info: chrome=119.0.6045.106); For documentation on this error, please visit: https://www.selenium.dev/documentation/webdriver/troubleshooting/errors#no-such-element-exception\nStacktrace:\n\tGetHandleVerifier [0x00007FF78B7D82B2+55298]\n\t(No symbol) [0x00007FF78B745E02]\n\t(No symbol) [0x00007FF78B6005AB]\n\t(No symbol) [0x00007FF78B64175C]\n\t(No symbol) [0x00007FF78B6418DC]\n\t(No symbol) [0x00007FF78B67CBC7]\n\t(No symbol) [0x00007FF78B6620EF]\n\t(No symbol) [0x00007FF78B67AAA4]\n\t(No symbol) [0x00007FF78B661E83]\n\t(No symbol) [0x00007FF78B63670A]\n\t(No symbol) [0x00007FF78B637964]\n\tGetHandleVerifier [0x00007FF78BB50AAB+3694587]\n\tGetHandleVerifier [0x00007FF78BBA728E+4048862]\n\tGetHandleVerifier [0x00007FF78BB9F173+4015811]\n\tGetHandleVerifier [0x00007FF78B8747D6+695590]\n\t(No symbol) [0x00007FF78B750CE8]\n\t(No symbol) [0x00007FF78B74CF34]\n\t(No symbol) [0x00007FF78B74D062]\n\t(No symbol) [0x00007FF78B73D3A3]\n\tBaseThreadInitThunk [0x00007FFF12247344+20]\n\tRtlUserThreadStart [0x00007FFF12D826B1+33]\n"
     ]
    }
   ],
   "source": [
    "driver=webdriver. Chrome()\n",
    "driver.get(\"https://www.google.com/\")\n",
    "time.sleep(5)\n",
    "#Entering an element which is not present in our webpage \n",
    "element = driver.find_element(By.ID, \"hoo-haa-hoo\")\n",
    "element.text"
   ]
  },
  {
   "cell_type": "code",
   "execution_count": 3,
   "id": "73ceae8c",
   "metadata": {},
   "outputs": [
    {
     "name": "stdout",
     "output_type": "stream",
     "text": [
      "Exception Raised Message: no such element: Unable to locate element: {\"method\":\"css selector\",\"selector\":\"[id=\"Hoo-Haa-Ho\"]\"}\n",
      "  (Session info: chrome=119.0.6045.106); For documentation on this error, please visit: https://www.selenium.dev/documentation/webdriver/troubleshooting/errors#no-such-element-exception\n",
      "Stacktrace:\n",
      "\tGetHandleVerifier [0x00007FF78B7D82B2+55298]\n",
      "\t(No symbol) [0x00007FF78B745E02]\n",
      "\t(No symbol) [0x00007FF78B6005AB]\n",
      "\t(No symbol) [0x00007FF78B64175C]\n",
      "\t(No symbol) [0x00007FF78B6418DC]\n",
      "\t(No symbol) [0x00007FF78B67CBC7]\n",
      "\t(No symbol) [0x00007FF78B6620EF]\n",
      "\t(No symbol) [0x00007FF78B67AAA4]\n",
      "\t(No symbol) [0x00007FF78B661E83]\n",
      "\t(No symbol) [0x00007FF78B63670A]\n",
      "\t(No symbol) [0x00007FF78B637964]\n",
      "\tGetHandleVerifier [0x00007FF78BB50AAB+3694587]\n",
      "\tGetHandleVerifier [0x00007FF78BBA728E+4048862]\n",
      "\tGetHandleVerifier [0x00007FF78BB9F173+4015811]\n",
      "\tGetHandleVerifier [0x00007FF78B8747D6+695590]\n",
      "\t(No symbol) [0x00007FF78B750CE8]\n",
      "\t(No symbol) [0x00007FF78B74CF34]\n",
      "\t(No symbol) [0x00007FF78B74D062]\n",
      "\t(No symbol) [0x00007FF78B73D3A3]\n",
      "\tBaseThreadInitThunk [0x00007FFF12247344+20]\n",
      "\tRtlUserThreadStart [0x00007FFF12D826B1+33]\n",
      "\n",
      "Gmail\n"
     ]
    }
   ],
   "source": [
    "#Handling Exception\n",
    "try:\n",
    "    element=driver.find_element(By.ID, \"Hoo-Haa-Ho\")\n",
    "    print(element.text)\n",
    "except NoSuchElementException as e:\n",
    "    print(\"Exception Raised\", e)         #Printing Message\n",
    "    element=driver.find_element(By.CLASS_NAME, \"gb_E\") #Replacing previous element by a valid element which appear\n",
    "    print(element.text)"
   ]
  },
  {
   "cell_type": "code",
   "execution_count": null,
   "id": "c0521efe",
   "metadata": {},
   "outputs": [],
   "source": []
  }
 ],
 "metadata": {
  "kernelspec": {
   "display_name": "Python 3 (ipykernel)",
   "language": "python",
   "name": "python3"
  },
  "language_info": {
   "codemirror_mode": {
    "name": "ipython",
    "version": 3
   },
   "file_extension": ".py",
   "mimetype": "text/x-python",
   "name": "python",
   "nbconvert_exporter": "python",
   "pygments_lexer": "ipython3",
   "version": "3.10.9"
  }
 },
 "nbformat": 4,
 "nbformat_minor": 5
}
