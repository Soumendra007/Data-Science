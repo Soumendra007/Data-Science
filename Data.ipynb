{
 "cells": [
  {
   "cell_type": "code",
   "execution_count": 1,
   "id": "e14622b0",
   "metadata": {},
   "outputs": [],
   "source": [
    "class player():\n",
    "    def __init__(self,name,age,sport):\n",
    "        print(\"Initialized method called\")\n",
    "        self.name=name\n",
    "        self.age=age\n",
    "        self.sport=sport\n",
    "    def getdata(self,name,age,sport):\n",
    "        print(\"Getdata method called\")\n",
    "        self.name=name\n",
    "        self.age=age\n",
    "        self.sport=sport\n",
    "    def display(self):\n",
    "        print(\"Players details:\",self.name,self.age,self.sport)"
   ]
  },
  {
   "cell_type": "code",
   "execution_count": 2,
   "id": "64bc12c2",
   "metadata": {},
   "outputs": [],
   "source": [
    "def main():\n",
    "        p1=player(\"Sachin\",35,\"Cricket\")\n",
    "        p1.display\n",
    "        p1.getdata(\"Virat\",32,\"Cricket\")\n",
    "        p1.display()\n",
    "        \n",
    "        p2=player(\"Roger\",36,\"Tennis\")\n",
    "        p2.display()\n",
    "        p2.getdata(\"Nadal\",37,\"Tennis\")\n",
    "        p2.display()"
   ]
  },
  {
   "cell_type": "code",
   "execution_count": 3,
   "id": "644985ff",
   "metadata": {},
   "outputs": [
    {
     "name": "stdout",
     "output_type": "stream",
     "text": [
      "Initialized method called\n",
      "Getdata method called\n",
      "Players details: Virat 32 Cricket\n",
      "Initialized method called\n",
      "Players details: Roger 36 Tennis\n",
      "Getdata method called\n",
      "Players details: Nadal 37 Tennis\n"
     ]
    }
   ],
   "source": [
    "if __name__==\"__main__\":\n",
    "        main()"
   ]
  },
  {
   "cell_type": "code",
   "execution_count": 4,
   "id": "4238a543",
   "metadata": {},
   "outputs": [
    {
     "ename": "NameError",
     "evalue": "name 'p2' is not defined",
     "output_type": "error",
     "traceback": [
      "\u001b[1;31m---------------------------------------------------------------------------\u001b[0m",
      "\u001b[1;31mNameError\u001b[0m                                 Traceback (most recent call last)",
      "Cell \u001b[1;32mIn[4], line 1\u001b[0m\n\u001b[1;32m----> 1\u001b[0m \u001b[43mp2\u001b[49m\u001b[38;5;241m.\u001b[39mdisplay()\n",
      "\u001b[1;31mNameError\u001b[0m: name 'p2' is not defined"
     ]
    }
   ],
   "source": [
    "p2.display()"
   ]
  },
  {
   "cell_type": "code",
   "execution_count": 5,
   "id": "8fbd81a8",
   "metadata": {},
   "outputs": [
    {
     "ename": "NameError",
     "evalue": "name 'p2' is not defined",
     "output_type": "error",
     "traceback": [
      "\u001b[1;31m---------------------------------------------------------------------------\u001b[0m",
      "\u001b[1;31mNameError\u001b[0m                                 Traceback (most recent call last)",
      "Cell \u001b[1;32mIn[5], line 1\u001b[0m\n\u001b[1;32m----> 1\u001b[0m \u001b[43mp2\u001b[49m\u001b[38;5;241m.\u001b[39mname\n",
      "\u001b[1;31mNameError\u001b[0m: name 'p2' is not defined"
     ]
    }
   ],
   "source": [
    "p2.name"
   ]
  },
  {
   "cell_type": "code",
   "execution_count": null,
   "id": "5adc2f06",
   "metadata": {},
   "outputs": [],
   "source": []
  }
 ],
 "metadata": {
  "kernelspec": {
   "display_name": "Python 3 (ipykernel)",
   "language": "python",
   "name": "python3"
  },
  "language_info": {
   "codemirror_mode": {
    "name": "ipython",
    "version": 3
   },
   "file_extension": ".py",
   "mimetype": "text/x-python",
   "name": "python",
   "nbconvert_exporter": "python",
   "pygments_lexer": "ipython3",
   "version": "3.10.9"
  }
 },
 "nbformat": 4,
 "nbformat_minor": 5
}
