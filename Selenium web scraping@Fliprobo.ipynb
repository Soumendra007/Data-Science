{
 "cells": [
  {
   "cell_type": "markdown",
   "id": "30242c53",
   "metadata": {},
   "source": [
    "# Purpose of This Session"
   ]
  },
  {
   "cell_type": "markdown",
   "id": "86365ef6",
   "metadata": {},
   "source": [
    "**Here are the pointers mentioning the topics we shall be covering in this session.**"
   ]
  },
  {
   "cell_type": "markdown",
   "id": "7e8a2e98",
   "metadata": {},
   "source": [
    "**❁ Introduction to Selenium**\n",
    "\n",
    "**❁ How is selenium different from BeautifulSoup?**\n",
    "\n",
    "**❁ Getting started with Selenium**\n",
    "\n",
    "**❁ Locating Web Elements in Selenium**\n",
    "\n",
    "**❁ Types of XPaths**\n",
    "\n",
    "**❁ XPath Functions**"
   ]
  },
  {
   "cell_type": "code",
   "execution_count": null,
   "id": "6aeba7c6",
   "metadata": {},
   "outputs": [],
   "source": []
  },
  {
   "cell_type": "markdown",
   "id": "20b5610d",
   "metadata": {},
   "source": [
    "# Introduction to Selenium"
   ]
  },
  {
   "cell_type": "markdown",
   "id": "82fbb2eb",
   "metadata": {},
   "source": [
    "**• Selenium is a web browser automation tool.**\n",
    "\n",
    "**• It allows us to open browser of our choice and perform tasks as a human being would like:**\n",
    "\n",
    "    Clicking buttons.\n",
    "    \n",
    "    Entering information in forms\n",
    "    \n",
    "    Searching for information on web pages.\n",
    "    \n",
    "**Uses a web-driver package that can take control of the browser and mimic user- oriented actions.**    "
   ]
  },
  {
   "cell_type": "code",
   "execution_count": null,
   "id": "da064d81",
   "metadata": {},
   "outputs": [],
   "source": []
  },
  {
   "cell_type": "markdown",
   "id": "450e0def",
   "metadata": {},
   "source": [
    "# Beautiful Soup vs Selenium"
   ]
  },
  {
   "cell_type": "markdown",
   "id": "48b0206d",
   "metadata": {},
   "source": [
    "# **BeautifulSoup**"
   ]
  },
  {
   "cell_type": "markdown",
   "id": "d9bc92c3",
   "metadata": {},
   "source": [
    "**⇝ A module that can be used for pulling data out of HTML and XML documents.**\n",
    "\n",
    "**⇝ Depends heavily on other libraries like requests or urllib for sending web requests. Does not have a document parser; we need to choose one like, 'html.parser',\n",
    "'HTML5lib'.**\n",
    "\n",
    "**⇝ It is difficult to scrap websites which return Java script code.**\n",
    "\n",
    "**⇝ It does not automate the web browser.** \n",
    "\n",
    "**⇝ It saves a copy of web page source and then does further processing**"
   ]
  },
  {
   "cell_type": "code",
   "execution_count": null,
   "id": "905581d9",
   "metadata": {},
   "outputs": [],
   "source": []
  },
  {
   "cell_type": "markdown",
   "id": "008da831",
   "metadata": {},
   "source": [
    "# Selenium"
   ]
  },
  {
   "cell_type": "markdown",
   "id": "4c009679",
   "metadata": {},
   "source": [
    "**⇝ A tool developed for web application automated testing.**\n",
    "\n",
    "**⇝ Can send web requests on its own.**\n",
    "\n",
    "**⇝ It comes with a parser.**\n",
    "\n",
    "**⇝ Loads JavaScript and can help access data behind JavaScript files as well.**\n",
    "\n",
    "**⇝ Faster than BeautifulSoup, while interacting with webpages.**\n",
    "\n",
    "**⇝ Comes handy when handling Java script featured websites.**"
   ]
  },
  {
   "cell_type": "code",
   "execution_count": null,
   "id": "7bdc028d",
   "metadata": {},
   "outputs": [],
   "source": []
  },
  {
   "cell_type": "markdown",
   "id": "1b0b7285",
   "metadata": {},
   "source": [
    "# Getting startea win Selenium"
   ]
  },
  {
   "cell_type": "markdown",
   "id": "d0edde31",
   "metadata": {},
   "source": [
    "**Setup**"
   ]
  },
  {
   "cell_type": "markdown",
   "id": "870e6d2b",
   "metadata": {},
   "source": [
    "• Selenium- We need to install selenium package."
   ]
  },
  {
   "cell_type": "markdown",
   "id": "159591d2",
   "metadata": {},
   "source": [
    "**pip install selenium**"
   ]
  },
  {
   "cell_type": "markdown",
   "id": "ec15b0f2",
   "metadata": {},
   "source": [
    "**• Selenium Drivers-** These web drivers enable python to control the browser for interactions.\n",
    "\n",
    "• The browser that you will use, chrome or Firefox, should be pre installed.\n",
    "\n",
    "• Check the version of your browser.\n",
    "\n",
    "• Visit - chromedriver.chromium.org/downloads\n",
    "\n",
    "• Download the version of chromedriver that matches the version of your browser. Keep a check of the path where the chromedriver is downloaded."
   ]
  },
  {
   "cell_type": "code",
   "execution_count": null,
   "id": "57f22240",
   "metadata": {},
   "outputs": [],
   "source": []
  },
  {
   "cell_type": "markdown",
   "id": "4c671f7d",
   "metadata": {},
   "source": [
    "# Locating Web Elements in Selenium"
   ]
  },
  {
   "cell_type": "markdown",
   "id": "fc87209c",
   "metadata": {},
   "source": [
    "**Selenium offers a wide variety of functions to locate an element on the web page:**\n",
    "\n",
    "• find_element_by_id: uses id to find an element.\n",
    "\n",
    "• find_element_by_name: uses name to find an element.\n",
    "\n",
    "• find_element_by_xpath: uses xpath to find an element.\n",
    "\n",
    "• find_element_by_tag_name: uses tag name to find an element.\n",
    "\n",
    "• find_element_by_class_name: uses value of class attribute to find an element.\n",
    "\n",
    "There are other functions as well which help us locate elements on the web page."
   ]
  },
  {
   "cell_type": "code",
   "execution_count": null,
   "id": "63a7c851",
   "metadata": {},
   "outputs": [],
   "source": []
  },
  {
   "cell_type": "markdown",
   "id": "e84b4ccf",
   "metadata": {},
   "source": [
    "# XPath Syntax"
   ]
  },
  {
   "cell_type": "markdown",
   "id": "4debe180",
   "metadata": {},
   "source": [
    "• XPath known as the XML path is a language that helps to query the XML documents. It consists of expression for a path along with certain conditions to locate a particular element."
   ]
  },
  {
   "cell_type": "markdown",
   "id": "a963cb3b",
   "metadata": {},
   "source": [
    "• The basic format of Xpath is mentioned below:"
   ]
  },
  {
   "cell_type": "markdown",
   "id": "69ace288",
   "metadata": {},
   "source": [
    "![](xpath.png)"
   ]
  },
  {
   "cell_type": "code",
   "execution_count": null,
   "id": "c7b55206",
   "metadata": {},
   "outputs": [],
   "source": []
  },
  {
   "cell_type": "markdown",
   "id": "62708a0c",
   "metadata": {},
   "source": [
    "# Types of XPaths"
   ]
  },
  {
   "cell_type": "markdown",
   "id": "e3daa5db",
   "metadata": {},
   "source": [
    "• There are two types of XPath:\n",
    "\n",
    "  **- Absolute XPath**\n",
    "\n",
    "  **- Relative XPath**"
   ]
  },
  {
   "cell_type": "code",
   "execution_count": null,
   "id": "bc52c995",
   "metadata": {},
   "outputs": [],
   "source": []
  },
  {
   "cell_type": "markdown",
   "id": "01b8097f",
   "metadata": {},
   "source": [
    "**Absolute XPath:** Begins with the single forward slash (/), means we select the element from the root node and go all the way down to the element needed.\n",
    "\n",
    "**Example-** /html/body/div[2]/div[1]/div/h4[1]/b/html[1]/body[1]/div[2]/h4[1]/b[1]"
   ]
  },
  {
   "cell_type": "code",
   "execution_count": null,
   "id": "a375674b",
   "metadata": {},
   "outputs": [],
   "source": []
  },
  {
   "cell_type": "markdown",
   "id": "2d8724c8",
   "metadata": {},
   "source": [
    "**Relative XPath:** starts from the middle of the HTML structure. Starts with double forward slash (//) and can search elements anywhere on the webpage without writing the long absolute xpath.\n",
    "\n",
    "**Example-** //div[@class='featured-box columnsize1']//h4[1]//b[1]"
   ]
  },
  {
   "cell_type": "code",
   "execution_count": null,
   "id": "c25be247",
   "metadata": {},
   "outputs": [],
   "source": []
  },
  {
   "cell_type": "markdown",
   "id": "317d5c31",
   "metadata": {},
   "source": [
    "# XPath Functions"
   ]
  },
  {
   "cell_type": "markdown",
   "id": "644da027",
   "metadata": {},
   "source": [
    "**1) Basic Xpath:** XPath expression select nodes or list of nodes on the basis of attributes like ID, Name, Classname, etc. from the XML document like shown below:\n",
    "\n",
    "**Syntax-** XPath=//input[@name='uid']\n",
    "\n",
    "**Example-** XPath=//a[@href='http://google.com/']"
   ]
  },
  {
   "cell_type": "code",
   "execution_count": null,
   "id": "04aa6802",
   "metadata": {},
   "outputs": [],
   "source": []
  },
  {
   "cell_type": "markdown",
   "id": "e5b35bd7",
   "metadata": {},
   "source": [
    "**2) Contains():** used when the value of any attribute changes dynamically, example, login information. It can find the element with partial text.\n",
    "\n",
    "For finding 'submit' button where Type= 'submit':\n",
    "\n",
    "    XPath= //*[contains(@type, 'sub')]\n",
    "\n",
    "    XPath=//img[contains(@src,'content')]"
   ]
  },
  {
   "cell_type": "code",
   "execution_count": null,
   "id": "e7230485",
   "metadata": {},
   "outputs": [],
   "source": []
  },
  {
   "cell_type": "markdown",
   "id": "85721bad",
   "metadata": {},
   "source": [
    "**3) Using OR & AND:** Here, two conditions are used, whether Ist condition OR 2nd condition should be true. Means any one condition should be true to find the element.\n",
    "\n",
    "**XPath=//*[@type='submit' or @name='btnReset']**\n",
    "\n",
    "In AND expression, two conditions are used, both conditions should be true to find the element. It fails to find element if any one condition is false.\n",
    "\n",
    "**XPath=//input[@type='submit' and @name='btnLogin']**"
   ]
  },
  {
   "cell_type": "code",
   "execution_count": null,
   "id": "ed1b1db1",
   "metadata": {},
   "outputs": [],
   "source": []
  },
  {
   "cell_type": "markdown",
   "id": "4961a784",
   "metadata": {},
   "source": [
    "**4) starts-with():** Used to find a web element whose value of an attribute changes on the refresh or on any other dynamic operation on the web page.\n",
    "\n",
    "We match the starting text of the attribute to locate an element whose attribute has changed dynamically.\n",
    "\n",
    "**XPath=//img[starts-with(@src,'https')]**"
   ]
  },
  {
   "cell_type": "code",
   "execution_count": null,
   "id": "fd030acd",
   "metadata": {},
   "outputs": [],
   "source": []
  },
  {
   "cell_type": "markdown",
   "id": "636ab575",
   "metadata": {},
   "source": [
    "**5) text():** Used with the text function to locate an element with exact text.\n",
    "\n",
    "Here, it go anywhere inside the document, irrespective of the tag, but, it must contain a text whose value is Search Google or type a URL. The asterisk (*) implies any tag with the same value.\n",
    "\n",
    "**XPath=//*[text()='Search Google or type a URL']**"
   ]
  },
  {
   "cell_type": "markdown",
   "id": "26bee62f",
   "metadata": {},
   "source": [
    "**Remember all these xpath functions are rearly use,most of the time(99%) we only use Absolute XPath and\n",
    "Relative XPath.**"
   ]
  },
  {
   "cell_type": "code",
   "execution_count": null,
   "id": "3ca9255c",
   "metadata": {},
   "outputs": [],
   "source": []
  },
  {
   "cell_type": "code",
   "execution_count": 2,
   "id": "f519f35f",
   "metadata": {},
   "outputs": [
    {
     "name": "stdout",
     "output_type": "stream",
     "text": [
      "Collecting selenium\n",
      "  Downloading selenium-4.15.0-py3-none-any.whl (10.2 MB)\n",
      "     ---------------------------------------- 10.2/10.2 MB 7.0 MB/s eta 0:00:00\n",
      "Collecting trio~=0.17\n",
      "  Downloading trio-0.22.2-py3-none-any.whl (400 kB)\n",
      "     -------------------------------------- 400.2/400.2 kB 5.0 MB/s eta 0:00:00\n",
      "Requirement already satisfied: urllib3[socks]<3,>=1.26 in c:\\users\\sourendra\\anaconda3\\lib\\site-packages (from selenium) (1.26.14)\n",
      "Requirement already satisfied: certifi>=2021.10.8 in c:\\users\\sourendra\\anaconda3\\lib\\site-packages (from selenium) (2022.12.7)\n",
      "Collecting trio-websocket~=0.9\n",
      "  Downloading trio_websocket-0.11.1-py3-none-any.whl (17 kB)\n",
      "Requirement already satisfied: attrs>=20.1.0 in c:\\users\\sourendra\\anaconda3\\lib\\site-packages (from trio~=0.17->selenium) (22.1.0)\n",
      "Requirement already satisfied: idna in c:\\users\\sourendra\\anaconda3\\lib\\site-packages (from trio~=0.17->selenium) (3.4)\n",
      "Requirement already satisfied: sortedcontainers in c:\\users\\sourendra\\anaconda3\\lib\\site-packages (from trio~=0.17->selenium) (2.4.0)\n",
      "Requirement already satisfied: sniffio in c:\\users\\sourendra\\anaconda3\\lib\\site-packages (from trio~=0.17->selenium) (1.2.0)\n",
      "Collecting outcome\n",
      "  Downloading outcome-1.3.0.post0-py2.py3-none-any.whl (10 kB)\n",
      "Requirement already satisfied: cffi>=1.14 in c:\\users\\sourendra\\anaconda3\\lib\\site-packages (from trio~=0.17->selenium) (1.15.1)\n",
      "Collecting exceptiongroup>=1.0.0rc9\n",
      "  Downloading exceptiongroup-1.1.3-py3-none-any.whl (14 kB)\n",
      "Collecting wsproto>=0.14\n",
      "  Downloading wsproto-1.2.0-py3-none-any.whl (24 kB)\n",
      "Requirement already satisfied: PySocks!=1.5.7,<2.0,>=1.5.6 in c:\\users\\sourendra\\anaconda3\\lib\\site-packages (from urllib3[socks]<3,>=1.26->selenium) (1.7.1)\n",
      "Requirement already satisfied: pycparser in c:\\users\\sourendra\\anaconda3\\lib\\site-packages (from cffi>=1.14->trio~=0.17->selenium) (2.21)\n",
      "Collecting h11<1,>=0.9.0\n",
      "  Downloading h11-0.14.0-py3-none-any.whl (58 kB)\n",
      "     -------------------------------------- 58.3/58.3 kB 615.6 kB/s eta 0:00:00\n",
      "Installing collected packages: outcome, h11, exceptiongroup, wsproto, trio, trio-websocket, selenium\n",
      "Successfully installed exceptiongroup-1.1.3 h11-0.14.0 outcome-1.3.0.post0 selenium-4.15.0 trio-0.22.2 trio-websocket-0.11.1 wsproto-1.2.0\n"
     ]
    }
   ],
   "source": [
    "!pip install selenium"
   ]
  },
  {
   "cell_type": "code",
   "execution_count": null,
   "id": "16acf704",
   "metadata": {},
   "outputs": [],
   "source": []
  },
  {
   "cell_type": "code",
   "execution_count": 23,
   "id": "116a899d",
   "metadata": {},
   "outputs": [],
   "source": [
    "#Let's inport all the required libraries\n",
    "import selenium                              #Library that is used to work with selenium \n",
    "from selenium import webdriver               #importing webdriver module from selentize to open automated chrome window\n",
    "from selenium.webdriver.common.by import By  #importing Inbuilt class By\n",
    "import warnings                                #to ignore any sort of warning\n",
    "warnings.filterwarnings(\"ignore\")\n",
    "import time                                  #use to stop search engine for few seconds\n",
    "import pandas as pd                          #to create DataFrame"
   ]
  },
  {
   "cell_type": "code",
   "execution_count": null,
   "id": "209282fa",
   "metadata": {},
   "outputs": [],
   "source": []
  },
  {
   "cell_type": "code",
   "execution_count": 24,
   "id": "beb6b8bb",
   "metadata": {},
   "outputs": [],
   "source": [
    "driver=webdriver.Chrome()"
   ]
  },
  {
   "cell_type": "markdown",
   "id": "b3c667f1",
   "metadata": {},
   "source": [
    "**After Exequting this code you see a Chrome will opend and there a message is written on it like \"Chrome is being controled by automated test server\" because you know selenium is automated web scraping library**"
   ]
  },
  {
   "cell_type": "code",
   "execution_count": 25,
   "id": "4c8a6a62",
   "metadata": {},
   "outputs": [],
   "source": [
    "#Opening the naukri page on automated chrome browser\n",
    "driver.get(\"https://www.naukri.com/\")"
   ]
  },
  {
   "cell_type": "markdown",
   "id": "50c20d58",
   "metadata": {},
   "source": [
    "**Now you can see naukri.com home page open on that window that which I open earlier using webdriver**"
   ]
  },
  {
   "cell_type": "markdown",
   "id": "6943f641",
   "metadata": {},
   "source": [
    "**Now I want to write \"Data Analyst\" on designation and \"Bangalore\" in Enter Location searchbox.So how can I do that lets see:**"
   ]
  },
  {
   "cell_type": "code",
   "execution_count": 26,
   "id": "7b99aa60",
   "metadata": {},
   "outputs": [],
   "source": [
    "designation=driver.find_element(By.CLASS_NAME,\"suggestor-input \")\n",
    "designation.send_keys(\"Data Analyst\")"
   ]
  },
  {
   "cell_type": "markdown",
   "id": "3e86ec39",
   "metadata": {},
   "source": [
    "**So here I use find_element because I want to put \"Data Analyst\" on designation search bar on the naukri.com home page and for that I have to inspect just one element right?If I had to extract many elements then I have to use find_elements.And here I do this using By.CLASS_NAME technique by giving child class name here which is suggestor-input,I can do this by using Absolute XPath also because I want to access just one search bar.I will use XPath techenique while I put \"Bangalore\" in enter location search bar**"
   ]
  },
  {
   "cell_type": "markdown",
   "id": "f701ec34",
   "metadata": {},
   "source": [
    "And one more thing I use here **.send_keys** because when we use any website we have to fill any search bar by typing ourself right.So **.send_keys(\"Data Analyst\")** write \"Data Analyst\" on designation column.  "
   ]
  },
  {
   "cell_type": "markdown",
   "id": "c6ef70d3",
   "metadata": {},
   "source": [
    "So after exequting this code you can see \"Data Analyst\" automaticaly written on designation search bar on designation search bar on the naukri.com page. "
   ]
  },
  {
   "cell_type": "code",
   "execution_count": 27,
   "id": "800f64ed",
   "metadata": {},
   "outputs": [],
   "source": [
    "location=driver.find_element(By.XPATH,\"/html/body/div[1]/div[7]/div/div/div[5]/div/div/div/div[1]/div/input\")\n",
    "location.send_keys(\"Bangalore\")"
   ]
  },
  {
   "cell_type": "markdown",
   "id": "54cab53a",
   "metadata": {},
   "source": [
    "**So here I use XPATH so how I will get that path? Lets see:**\n",
    "    \n",
    "    **1.First you have to right click on Enter Location search bar and click on inspect.You will see the right class name with is highlighted for this Enter Location search bar.**\n",
    "    \n",
    "    **2.You have to right click on that highlighted portion and then select copy and then click Copy Full Xpath.Now your Xpath is copied.**"
   ]
  },
  {
   "cell_type": "markdown",
   "id": "defca558",
   "metadata": {},
   "source": [
    "**Remember here I just extract only one element ,here that is Enter Location search bar so I used here Absolute Xpath technique ,when I need to extract many elements I have to use Relative Xpath and its technique is different.**"
   ]
  },
  {
   "cell_type": "markdown",
   "id": "dcf7f1a0",
   "metadata": {},
   "source": [
    "**.send_keys(\"Bangalore\")** you know by using this I wrote \"Bangalore\" on Enter Location search bar."
   ]
  },
  {
   "cell_type": "code",
   "execution_count": null,
   "id": "522ef7b2",
   "metadata": {},
   "outputs": [],
   "source": []
  },
  {
   "cell_type": "markdown",
   "id": "4fd530a0",
   "metadata": {},
   "source": [
    "**Now I need to hit the search button.So how can I do that lets see:**"
   ]
  },
  {
   "cell_type": "code",
   "execution_count": 28,
   "id": "40ae4dda",
   "metadata": {},
   "outputs": [],
   "source": [
    "search=driver.find_element(By.CLASS_NAME,\"qsbSubmit\")\n",
    "search.click()"
   ]
  },
  {
   "cell_type": "markdown",
   "id": "f7b73c72",
   "metadata": {},
   "source": [
    "So here I use By.CLASS_NAME technique you can use XPATH technique also and because I have to click on search button I write **.click()**"
   ]
  },
  {
   "cell_type": "markdown",
   "id": "b3a78cba",
   "metadata": {},
   "source": [
    "**Now you can see in that window a page open which gives you some search result on naukri.com regarding Data Analyst and Bangalore location.** "
   ]
  },
  {
   "cell_type": "code",
   "execution_count": null,
   "id": "e18ecbd5",
   "metadata": {},
   "outputs": [],
   "source": []
  },
  {
   "cell_type": "code",
   "execution_count": 29,
   "id": "5a382c27",
   "metadata": {},
   "outputs": [],
   "source": [
    "job_title=[]\n",
    "job_location=[]\n",
    "company_name=[]\n",
    "experience_required=[]"
   ]
  },
  {
   "cell_type": "code",
   "execution_count": 34,
   "id": "2b3e351f",
   "metadata": {},
   "outputs": [],
   "source": [
    "#Scraping job title for given page\n",
    "title_tag=driver.find_elements(By.XPATH,'//div[@class=\"cust-job-tuple layout-wrapper lay-2 sjw__tuple \"]/div/a')\n",
    "for i in title_tag:\n",
    "    title=i.text\n",
    "    job_title.append(title)"
   ]
  },
  {
   "cell_type": "markdown",
   "id": "d2a50f2d",
   "metadata": {},
   "source": [
    "So here I am fetching the job titels so here I used Relative XPATH and if you right click on the 1st job title you might see the child class here its like **\"<a class=\"title \" title=\"Data Analyst\" href=\"https://www.nau\"** but some times child class did not give you the result you want so here I dont use the parent class that is **\"<div class=\" row1\"><a class=\"title\"** I used super parent class that is\"**\"<div class=\"cust-job-tuple layout-wrapper lay-2 sjw__tuple \"><div class=\" row1\"><a class=\"title \" title=\"Data Analyst\" hr\"** and after that I return to child class step by step like first I copied the super parent class and put the third bracket over it then before the class start I use a@ sign and before third bracket I use // and then use tag here super parent class tag was div.after that I have to return to the child class that is first I have to use /div to come down to parent class because parent class tag was div and after that I put a /a again to come down to child class because here child class tag is a.   "
   ]
  },
  {
   "cell_type": "code",
   "execution_count": 36,
   "id": "bf334c4f",
   "metadata": {},
   "outputs": [],
   "source": [
    "#Scraping job location for given page\n",
    "location_tag=driver.find_elements(By.XPATH,'//span[@class=\"loc-wrap ver-line\"]/span/span')\n",
    "for i in title_tag:\n",
    "    loc=i.text\n",
    "    job_location.append(loc)"
   ]
  },
  {
   "cell_type": "code",
   "execution_count": null,
   "id": "553269f3",
   "metadata": {},
   "outputs": [],
   "source": []
  },
  {
   "cell_type": "code",
   "execution_count": 37,
   "id": "6cb70d92",
   "metadata": {},
   "outputs": [],
   "source": [
    "#Scraping company name for given page\n",
    "company_tag=driver.find_elements(By.XPATH,'//span[@class=\" comp-dtls-wrap\"]/a[1]')\n",
    "for i in company_tag:\n",
    "    com=i.text\n",
    "    company_name.append(com)"
   ]
  },
  {
   "cell_type": "markdown",
   "id": "7316f06a",
   "metadata": {},
   "source": [
    "So here I take parent class and then return to child class by using /a because in child class tag name was a but there was a problem under parent class there are 52 a tag so I have to clearify I need 1st a tag for span parent class that why I write /a[1] at the end. "
   ]
  },
  {
   "cell_type": "code",
   "execution_count": null,
   "id": "c64310d1",
   "metadata": {},
   "outputs": [],
   "source": []
  },
  {
   "cell_type": "code",
   "execution_count": 39,
   "id": "06d805f3",
   "metadata": {},
   "outputs": [],
   "source": [
    "#Scraping experience required for given page\n",
    "experience_tag=driver.find_elements(By.XPATH,'//span[@class=\"expwdth\"]')\n",
    "for i in experience_tag:\n",
    "    exp=i.text\n",
    "    experience_required.append(exp)"
   ]
  },
  {
   "cell_type": "markdown",
   "id": "497f7e23",
   "metadata": {},
   "source": [
    "Here I use only child class."
   ]
  },
  {
   "cell_type": "code",
   "execution_count": 40,
   "id": "11f6e243",
   "metadata": {},
   "outputs": [
    {
     "name": "stdout",
     "output_type": "stream",
     "text": [
      "20 20 20 20\n"
     ]
    }
   ],
   "source": [
    "print(len(job_title),len(job_location),len(company_name),len(experience_required))"
   ]
  },
  {
   "cell_type": "code",
   "execution_count": 41,
   "id": "c64700ac",
   "metadata": {},
   "outputs": [
    {
     "data": {
      "text/html": [
       "<div>\n",
       "<style scoped>\n",
       "    .dataframe tbody tr th:only-of-type {\n",
       "        vertical-align: middle;\n",
       "    }\n",
       "\n",
       "    .dataframe tbody tr th {\n",
       "        vertical-align: top;\n",
       "    }\n",
       "\n",
       "    .dataframe thead th {\n",
       "        text-align: right;\n",
       "    }\n",
       "</style>\n",
       "<table border=\"1\" class=\"dataframe\">\n",
       "  <thead>\n",
       "    <tr style=\"text-align: right;\">\n",
       "      <th></th>\n",
       "      <th>Job Title</th>\n",
       "      <th>Location</th>\n",
       "      <th>Company Name</th>\n",
       "      <th>Experience Required</th>\n",
       "    </tr>\n",
       "  </thead>\n",
       "  <tbody>\n",
       "    <tr>\n",
       "      <th>0</th>\n",
       "      <td>Data Analyst</td>\n",
       "      <td>Data Analyst</td>\n",
       "      <td>SRKay Consulting</td>\n",
       "      <td>6-11 Yrs</td>\n",
       "    </tr>\n",
       "    <tr>\n",
       "      <th>1</th>\n",
       "      <td>Data Analyst</td>\n",
       "      <td>Data Analyst</td>\n",
       "      <td>Airtel</td>\n",
       "      <td>5-7 Yrs</td>\n",
       "    </tr>\n",
       "    <tr>\n",
       "      <th>2</th>\n",
       "      <td>Data Analyst</td>\n",
       "      <td>Data Analyst</td>\n",
       "      <td>Mobile Premier League (MPL)</td>\n",
       "      <td>2-5 Yrs</td>\n",
       "    </tr>\n",
       "    <tr>\n",
       "      <th>3</th>\n",
       "      <td>EY : Hiring For Data Analyst For Bangalore Loc...</td>\n",
       "      <td>EY : Hiring For Data Analyst For Bangalore Loc...</td>\n",
       "      <td>EY</td>\n",
       "      <td>5-10 Yrs</td>\n",
       "    </tr>\n",
       "    <tr>\n",
       "      <th>4</th>\n",
       "      <td>Data Analyst</td>\n",
       "      <td>Data Analyst</td>\n",
       "      <td>Info Origin</td>\n",
       "      <td>5-7 Yrs</td>\n",
       "    </tr>\n",
       "    <tr>\n",
       "      <th>5</th>\n",
       "      <td>Data Analyst and Cloud Practices</td>\n",
       "      <td>Data Analyst and Cloud Practices</td>\n",
       "      <td>Blue Rose Technologies Pvt. Ltd</td>\n",
       "      <td>0-2 Yrs</td>\n",
       "    </tr>\n",
       "    <tr>\n",
       "      <th>6</th>\n",
       "      <td>Payer Data Analyst</td>\n",
       "      <td>Payer Data Analyst</td>\n",
       "      <td>Agilite Global Solutions</td>\n",
       "      <td>3-7 Yrs</td>\n",
       "    </tr>\n",
       "    <tr>\n",
       "      <th>7</th>\n",
       "      <td>Data Analyst || Immediate || 4+ Years ||</td>\n",
       "      <td>Data Analyst || Immediate || 4+ Years ||</td>\n",
       "      <td>Artech</td>\n",
       "      <td>4-9 Yrs</td>\n",
       "    </tr>\n",
       "    <tr>\n",
       "      <th>8</th>\n",
       "      <td>Data Analyst || Immediate || 4+ Years ||</td>\n",
       "      <td>Data Analyst || Immediate || 4+ Years ||</td>\n",
       "      <td>Artech</td>\n",
       "      <td>4-9 Yrs</td>\n",
       "    </tr>\n",
       "    <tr>\n",
       "      <th>9</th>\n",
       "      <td>Data Analyst (Automotive Aftermarket)</td>\n",
       "      <td>Data Analyst (Automotive Aftermarket)</td>\n",
       "      <td>Fenyes Engineered Technology Pvt Ltd</td>\n",
       "      <td>4-9 Yrs</td>\n",
       "    </tr>\n",
       "    <tr>\n",
       "      <th>10</th>\n",
       "      <td>Data Analyst</td>\n",
       "      <td>Data Analyst</td>\n",
       "      <td>EY India</td>\n",
       "      <td>6-11 Yrs</td>\n",
       "    </tr>\n",
       "    <tr>\n",
       "      <th>11</th>\n",
       "      <td>Data Analyst</td>\n",
       "      <td>Data Analyst</td>\n",
       "      <td>Tech Mahindra</td>\n",
       "      <td>5-10 Yrs</td>\n",
       "    </tr>\n",
       "    <tr>\n",
       "      <th>12</th>\n",
       "      <td>Data Analyst</td>\n",
       "      <td>Data Analyst</td>\n",
       "      <td>Blink Health</td>\n",
       "      <td>0-2 Yrs</td>\n",
       "    </tr>\n",
       "    <tr>\n",
       "      <th>13</th>\n",
       "      <td>Data Analyst</td>\n",
       "      <td>Data Analyst</td>\n",
       "      <td>Magicpitch Llc</td>\n",
       "      <td>0-1 Yrs</td>\n",
       "    </tr>\n",
       "    <tr>\n",
       "      <th>14</th>\n",
       "      <td>Data Analyst</td>\n",
       "      <td>Data Analyst</td>\n",
       "      <td>NNE Pharmaplan</td>\n",
       "      <td>1-2 Yrs</td>\n",
       "    </tr>\n",
       "    <tr>\n",
       "      <th>15</th>\n",
       "      <td>Data Intelligence Analyst</td>\n",
       "      <td>Data Intelligence Analyst</td>\n",
       "      <td>Equiniti India</td>\n",
       "      <td>2-4 Yrs</td>\n",
       "    </tr>\n",
       "    <tr>\n",
       "      <th>16</th>\n",
       "      <td>Data Analyst</td>\n",
       "      <td>Data Analyst</td>\n",
       "      <td>mPokket</td>\n",
       "      <td>2-4 Yrs</td>\n",
       "    </tr>\n",
       "    <tr>\n",
       "      <th>17</th>\n",
       "      <td>Data Analyst</td>\n",
       "      <td>Data Analyst</td>\n",
       "      <td>TSIT Digital</td>\n",
       "      <td>6-10 Yrs</td>\n",
       "    </tr>\n",
       "    <tr>\n",
       "      <th>18</th>\n",
       "      <td>Data Analyst</td>\n",
       "      <td>Data Analyst</td>\n",
       "      <td>Wonderla Holidays</td>\n",
       "      <td>1-5 Yrs</td>\n",
       "    </tr>\n",
       "    <tr>\n",
       "      <th>19</th>\n",
       "      <td>Data Analyst</td>\n",
       "      <td>Data Analyst</td>\n",
       "      <td>Gojek</td>\n",
       "      <td>3-6 Yrs</td>\n",
       "    </tr>\n",
       "  </tbody>\n",
       "</table>\n",
       "</div>"
      ],
      "text/plain": [
       "                                            Job Title  \\\n",
       "0                                        Data Analyst   \n",
       "1                                        Data Analyst   \n",
       "2                                        Data Analyst   \n",
       "3   EY : Hiring For Data Analyst For Bangalore Loc...   \n",
       "4                                        Data Analyst   \n",
       "5                    Data Analyst and Cloud Practices   \n",
       "6                                  Payer Data Analyst   \n",
       "7            Data Analyst || Immediate || 4+ Years ||   \n",
       "8            Data Analyst || Immediate || 4+ Years ||   \n",
       "9               Data Analyst (Automotive Aftermarket)   \n",
       "10                                       Data Analyst   \n",
       "11                                       Data Analyst   \n",
       "12                                       Data Analyst   \n",
       "13                                       Data Analyst   \n",
       "14                                       Data Analyst   \n",
       "15                          Data Intelligence Analyst   \n",
       "16                                       Data Analyst   \n",
       "17                                       Data Analyst   \n",
       "18                                       Data Analyst   \n",
       "19                                       Data Analyst   \n",
       "\n",
       "                                             Location  \\\n",
       "0                                        Data Analyst   \n",
       "1                                        Data Analyst   \n",
       "2                                        Data Analyst   \n",
       "3   EY : Hiring For Data Analyst For Bangalore Loc...   \n",
       "4                                        Data Analyst   \n",
       "5                    Data Analyst and Cloud Practices   \n",
       "6                                  Payer Data Analyst   \n",
       "7            Data Analyst || Immediate || 4+ Years ||   \n",
       "8            Data Analyst || Immediate || 4+ Years ||   \n",
       "9               Data Analyst (Automotive Aftermarket)   \n",
       "10                                       Data Analyst   \n",
       "11                                       Data Analyst   \n",
       "12                                       Data Analyst   \n",
       "13                                       Data Analyst   \n",
       "14                                       Data Analyst   \n",
       "15                          Data Intelligence Analyst   \n",
       "16                                       Data Analyst   \n",
       "17                                       Data Analyst   \n",
       "18                                       Data Analyst   \n",
       "19                                       Data Analyst   \n",
       "\n",
       "                            Company Name Experience Required  \n",
       "0                       SRKay Consulting            6-11 Yrs  \n",
       "1                                 Airtel             5-7 Yrs  \n",
       "2            Mobile Premier League (MPL)             2-5 Yrs  \n",
       "3                                     EY            5-10 Yrs  \n",
       "4                            Info Origin             5-7 Yrs  \n",
       "5        Blue Rose Technologies Pvt. Ltd             0-2 Yrs  \n",
       "6               Agilite Global Solutions             3-7 Yrs  \n",
       "7                                 Artech             4-9 Yrs  \n",
       "8                                 Artech             4-9 Yrs  \n",
       "9   Fenyes Engineered Technology Pvt Ltd             4-9 Yrs  \n",
       "10                              EY India            6-11 Yrs  \n",
       "11                         Tech Mahindra            5-10 Yrs  \n",
       "12                          Blink Health             0-2 Yrs  \n",
       "13                        Magicpitch Llc             0-1 Yrs  \n",
       "14                        NNE Pharmaplan             1-2 Yrs  \n",
       "15                        Equiniti India             2-4 Yrs  \n",
       "16                               mPokket             2-4 Yrs  \n",
       "17                          TSIT Digital            6-10 Yrs  \n",
       "18                     Wonderla Holidays             1-5 Yrs  \n",
       "19                                 Gojek             3-6 Yrs  "
      ]
     },
     "execution_count": 41,
     "metadata": {},
     "output_type": "execute_result"
    }
   ],
   "source": [
    "df=pd.DataFrame({\"Job Title\":job_title,\"Location\":job_location,\"Company Name\":company_name,\"Experience Required\":experience_required})\n",
    "df"
   ]
  },
  {
   "cell_type": "code",
   "execution_count": null,
   "id": "9be658a9",
   "metadata": {},
   "outputs": [],
   "source": []
  },
  {
   "cell_type": "markdown",
   "id": "4619454f",
   "metadata": {},
   "source": [
    "**To fetch the url**"
   ]
  },
  {
   "cell_type": "code",
   "execution_count": 44,
   "id": "226c52f6",
   "metadata": {},
   "outputs": [
    {
     "data": {
      "text/plain": [
       "[<selenium.webdriver.remote.webelement.WebElement (session=\"17903a53841da66dbbc1b26f3ceebf8e\", element=\"3AB26559C1468ED53AA1904003A843E6_element_79\")>,\n",
       " <selenium.webdriver.remote.webelement.WebElement (session=\"17903a53841da66dbbc1b26f3ceebf8e\", element=\"3AB26559C1468ED53AA1904003A843E6_element_80\")>,\n",
       " <selenium.webdriver.remote.webelement.WebElement (session=\"17903a53841da66dbbc1b26f3ceebf8e\", element=\"3AB26559C1468ED53AA1904003A843E6_element_81\")>,\n",
       " <selenium.webdriver.remote.webelement.WebElement (session=\"17903a53841da66dbbc1b26f3ceebf8e\", element=\"3AB26559C1468ED53AA1904003A843E6_element_1271\")>]"
      ]
     },
     "execution_count": 44,
     "metadata": {},
     "output_type": "execute_result"
    }
   ],
   "source": [
    "#To fetch the url\n",
    "url=driver.find_elements(By.XPATH,'//a[@class=\"title \"]')\n",
    "url[0:4]"
   ]
  },
  {
   "cell_type": "code",
   "execution_count": null,
   "id": "7959f98a",
   "metadata": {},
   "outputs": [],
   "source": []
  },
  {
   "cell_type": "code",
   "execution_count": 50,
   "id": "ca8aeb36",
   "metadata": {},
   "outputs": [
    {
     "name": "stdout",
     "output_type": "stream",
     "text": [
      "https://www.naukri.com/job-listings-data-analyst-srkay-consulting-bangalore-bengaluru-6-to-11-years-011123008467\n",
      "https://www.naukri.com/job-listings-data-analyst-airtel-gurgaon-gurugram-haryana-bangalore-bengaluru-karnataka-5-to-7-years-301023002843\n",
      "https://www.naukri.com/job-listings-data-analyst-mobile-premier-league-bangalore-bengaluru-2-to-5-years-301023500112\n",
      "None\n"
     ]
    }
   ],
   "source": [
    "for i in url[0:4]:                 #Lets provide the range to print only top 4 data\n",
    "    print(i.get_attribute('href'))\n",
    "   "
   ]
  },
  {
   "cell_type": "markdown",
   "id": "4a0b7dee",
   "metadata": {},
   "source": [
    "**Here I extract top 4 links**"
   ]
  },
  {
   "cell_type": "code",
   "execution_count": null,
   "id": "7f48ff9d",
   "metadata": {},
   "outputs": [],
   "source": []
  },
  {
   "cell_type": "markdown",
   "id": "e58d0a98",
   "metadata": {},
   "source": [
    "# Now what happend if I want all three pages of job title of certain website? Here obviously I working on naukri.com so lest see: "
   ]
  },
  {
   "cell_type": "code",
   "execution_count": 52,
   "id": "5dbae4b7",
   "metadata": {},
   "outputs": [],
   "source": [
    "New_job_title=[]"
   ]
  },
  {
   "cell_type": "code",
   "execution_count": 67,
   "id": "c757d968",
   "metadata": {},
   "outputs": [],
   "source": [
    "start=0\n",
    "end=3\n",
    "\n",
    "for page in range(start,end):\n",
    "    title=driver.find_elements(By.XPATH,'//div[@class=\"cust-job-tuple layout-wrapper lay-2 sjw__tuple \"]/div/a')\n",
    "    for i in title:\n",
    "        New_job_title.append(i.text)\n",
    "    next_button=driver.find_element(By.XPATH,'/html/body/div[1]/div/main/div[1]/div[2]/div[3]/div/a[2]')\n",
    "    next_button.click()\n",
    "    time.sleep(5)           #It will give 5 seconds pause to click next page in the website\n",
    "    \n",
    "\n"
   ]
  },
  {
   "cell_type": "code",
   "execution_count": 68,
   "id": "7c4e09bb",
   "metadata": {},
   "outputs": [
    {
     "data": {
      "text/plain": [
       "['Data Analyst',\n",
       " 'Data Analyst',\n",
       " 'DATA ANALYST',\n",
       " 'Data Analyst',\n",
       " 'Data Analyst RK',\n",
       " 'Statistician/Data Analyst',\n",
       " 'Data Analyst',\n",
       " 'Data Analyst',\n",
       " 'Data Analyst',\n",
       " 'Data Analyst',\n",
       " 'Data Analyst',\n",
       " 'Data Analyst',\n",
       " 'Data Analyst',\n",
       " 'Data Analysts',\n",
       " 'Data Analyst',\n",
       " 'Data Analyst',\n",
       " 'Data Analyst',\n",
       " 'Data Analyst',\n",
       " 'Data Analysts',\n",
       " 'Data Analyst',\n",
       " 'Data Analyst',\n",
       " 'Data Analyst - DS (Quantum)',\n",
       " 'Data Analyst',\n",
       " 'Data Analyst',\n",
       " 'Data Analyst',\n",
       " 'Data Analyst',\n",
       " 'Data Analyst',\n",
       " 'Data Analyst',\n",
       " 'Data Analyst',\n",
       " 'Data Analyst',\n",
       " 'Data Analyst',\n",
       " 'Data Analyst',\n",
       " 'Data Checker Analyst',\n",
       " 'Data Engineer / Analyst',\n",
       " 'Data Scientist / Analyst',\n",
       " 'Data Services Analyst ( Modelling )',\n",
       " 'Data/Taxonomy Analyst',\n",
       " 'Data Governance Analyst',\n",
       " 'GVM Data Analyst',\n",
       " 'Data Analyst',\n",
       " 'Data analyst / Data Scientist',\n",
       " 'Data Integration Analyst',\n",
       " 'Analyst Export/Import Data controller (Customs data/Classification)',\n",
       " 'Sr. Business Data Analyst',\n",
       " 'Data Scientist/Data Analyst - Sr. Executive',\n",
       " 'Senior Data Analyst',\n",
       " 'SENIOR DATA ANALYST',\n",
       " 'Senior Data Analyst',\n",
       " 'Senior Data Analyst',\n",
       " 'Senior Data Analyst',\n",
       " 'Senior Data Analyst',\n",
       " 'Senior Price & Data Analyst',\n",
       " 'Senior Data Analyst - X Delivery',\n",
       " 'Be/MBA Freshers - Data Analyst (HR/Others) - Remote Working',\n",
       " 'Business Data Analyst',\n",
       " 'Data analyst / Data scientist, AVP',\n",
       " 'Data analyst / Data scientist, AVP',\n",
       " 'Senior Analyst, HR Data Management - Workday & Learning',\n",
       " 'Senior Analyst, HR Data Management - Talent Acquisition & Talent M',\n",
       " 'Master Data Analyst']"
      ]
     },
     "execution_count": 68,
     "metadata": {},
     "output_type": "execute_result"
    }
   ],
   "source": [
    "New_job_title"
   ]
  },
  {
   "cell_type": "code",
   "execution_count": 69,
   "id": "5d9644cf",
   "metadata": {},
   "outputs": [
    {
     "data": {
      "text/plain": [
       "60"
      ]
     },
     "execution_count": 69,
     "metadata": {},
     "output_type": "execute_result"
    }
   ],
   "source": [
    "len(New_job_title)"
   ]
  },
  {
   "cell_type": "markdown",
   "id": "14d72320",
   "metadata": {},
   "source": [
    "So you can see for the 0 to 3 pages there are 20 job title in each page so it store 60 job titles."
   ]
  },
  {
   "cell_type": "code",
   "execution_count": null,
   "id": "65e9334d",
   "metadata": {},
   "outputs": [],
   "source": []
  }
 ],
 "metadata": {
  "kernelspec": {
   "display_name": "Python 3 (ipykernel)",
   "language": "python",
   "name": "python3"
  },
  "language_info": {
   "codemirror_mode": {
    "name": "ipython",
    "version": 3
   },
   "file_extension": ".py",
   "mimetype": "text/x-python",
   "name": "python",
   "nbconvert_exporter": "python",
   "pygments_lexer": "ipython3",
   "version": "3.10.9"
  }
 },
 "nbformat": 4,
 "nbformat_minor": 5
}
